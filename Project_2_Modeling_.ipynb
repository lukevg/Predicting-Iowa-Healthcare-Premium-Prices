{
 "cells": [
  {
   "cell_type": "code",
   "execution_count": 199,
   "metadata": {},
   "outputs": [],
   "source": [
    "import pandas as pd\n",
    "import numpy as np\n",
    "from sklearn.model_selection import train_test_split, GridSearchCV\n",
    "from sklearn.preprocessing import StandardScaler, PolynomialFeatures\n",
    "from sklearn.linear_model import LinearRegression, Lasso, LassoCV, Ridge, RidgeCV\n",
    "from sklearn.model_selection import KFold\n",
    "from sklearn.model_selection import cross_val_score\n",
    "from sklearn.model_selection import train_test_split\n",
    "from sklearn.pipeline import make_pipeline\n",
    "from sklearn.pipeline import Pipeline\n",
    "from sklearn.metrics import mean_squared_error, r2_score\n",
    "import statsmodels.api as sm\n",
    "import statsmodels.formula.api as smf\n",
    "import patsy\n",
    "import matplotlib.pyplot as plt\n",
    "\n",
    "import warnings\n",
    "warnings.filterwarnings('ignore')"
   ]
  },
  {
   "cell_type": "code",
   "execution_count": 200,
   "metadata": {},
   "outputs": [
    {
     "data": {
      "text/html": [
       "<div>\n",
       "<style scoped>\n",
       "    .dataframe tbody tr th:only-of-type {\n",
       "        vertical-align: middle;\n",
       "    }\n",
       "\n",
       "    .dataframe tbody tr th {\n",
       "        vertical-align: top;\n",
       "    }\n",
       "\n",
       "    .dataframe thead th {\n",
       "        text-align: right;\n",
       "    }\n",
       "</style>\n",
       "<table border=\"1\" class=\"dataframe\">\n",
       "  <thead>\n",
       "    <tr style=\"text-align: right;\">\n",
       "      <th></th>\n",
       "      <th>Unnamed: 0</th>\n",
       "      <th>County</th>\n",
       "      <th>Popul_16_Over</th>\n",
       "      <th>Unemployment_Rate</th>\n",
       "      <th>Not_in_Labor_Force_Pct</th>\n",
       "      <th>Female_Popul_16_Over</th>\n",
       "      <th>Avg_Commute_Minutes</th>\n",
       "      <th>Per_capita_income</th>\n",
       "      <th>Median_Income</th>\n",
       "      <th>Median_Male_Income</th>\n",
       "      <th>...</th>\n",
       "      <th>Metal_Level_Gold</th>\n",
       "      <th>Metal_Level_Platinum</th>\n",
       "      <th>Metal_Level_Silver</th>\n",
       "      <th>Freedom_Life_Ins_Co</th>\n",
       "      <th>Gundersen_Ins_Co</th>\n",
       "      <th>Medica_Ins_Co</th>\n",
       "      <th>Wellmark_Health_Plan_Iowa_Ins_Co</th>\n",
       "      <th>Wellmark_Synergy_Health_Ins_Co</th>\n",
       "      <th>Wellmark_Value_Health_Plan_Ins_Co</th>\n",
       "      <th>Wellmark_Ins_Co</th>\n",
       "    </tr>\n",
       "  </thead>\n",
       "  <tbody>\n",
       "    <tr>\n",
       "      <th>0</th>\n",
       "      <td>0</td>\n",
       "      <td>Calhoun</td>\n",
       "      <td>7933</td>\n",
       "      <td>1.3</td>\n",
       "      <td>43.4</td>\n",
       "      <td>3854</td>\n",
       "      <td>20.4</td>\n",
       "      <td>27370</td>\n",
       "      <td>26657</td>\n",
       "      <td>44283</td>\n",
       "      <td>...</td>\n",
       "      <td>0</td>\n",
       "      <td>0</td>\n",
       "      <td>0</td>\n",
       "      <td>1</td>\n",
       "      <td>0</td>\n",
       "      <td>0</td>\n",
       "      <td>0</td>\n",
       "      <td>0</td>\n",
       "      <td>0</td>\n",
       "      <td>0</td>\n",
       "    </tr>\n",
       "    <tr>\n",
       "      <th>1</th>\n",
       "      <td>1</td>\n",
       "      <td>Calhoun</td>\n",
       "      <td>7933</td>\n",
       "      <td>1.3</td>\n",
       "      <td>43.4</td>\n",
       "      <td>3854</td>\n",
       "      <td>20.4</td>\n",
       "      <td>27370</td>\n",
       "      <td>26657</td>\n",
       "      <td>44283</td>\n",
       "      <td>...</td>\n",
       "      <td>0</td>\n",
       "      <td>0</td>\n",
       "      <td>0</td>\n",
       "      <td>1</td>\n",
       "      <td>0</td>\n",
       "      <td>0</td>\n",
       "      <td>0</td>\n",
       "      <td>0</td>\n",
       "      <td>0</td>\n",
       "      <td>0</td>\n",
       "    </tr>\n",
       "    <tr>\n",
       "      <th>2</th>\n",
       "      <td>2</td>\n",
       "      <td>Calhoun</td>\n",
       "      <td>7933</td>\n",
       "      <td>1.3</td>\n",
       "      <td>43.4</td>\n",
       "      <td>3854</td>\n",
       "      <td>20.4</td>\n",
       "      <td>27370</td>\n",
       "      <td>26657</td>\n",
       "      <td>44283</td>\n",
       "      <td>...</td>\n",
       "      <td>0</td>\n",
       "      <td>0</td>\n",
       "      <td>0</td>\n",
       "      <td>1</td>\n",
       "      <td>0</td>\n",
       "      <td>0</td>\n",
       "      <td>0</td>\n",
       "      <td>0</td>\n",
       "      <td>0</td>\n",
       "      <td>0</td>\n",
       "    </tr>\n",
       "    <tr>\n",
       "      <th>3</th>\n",
       "      <td>3</td>\n",
       "      <td>Calhoun</td>\n",
       "      <td>7933</td>\n",
       "      <td>1.3</td>\n",
       "      <td>43.4</td>\n",
       "      <td>3854</td>\n",
       "      <td>20.4</td>\n",
       "      <td>27370</td>\n",
       "      <td>26657</td>\n",
       "      <td>44283</td>\n",
       "      <td>...</td>\n",
       "      <td>0</td>\n",
       "      <td>0</td>\n",
       "      <td>0</td>\n",
       "      <td>1</td>\n",
       "      <td>0</td>\n",
       "      <td>0</td>\n",
       "      <td>0</td>\n",
       "      <td>0</td>\n",
       "      <td>0</td>\n",
       "      <td>0</td>\n",
       "    </tr>\n",
       "    <tr>\n",
       "      <th>4</th>\n",
       "      <td>4</td>\n",
       "      <td>Calhoun</td>\n",
       "      <td>7933</td>\n",
       "      <td>1.3</td>\n",
       "      <td>43.4</td>\n",
       "      <td>3854</td>\n",
       "      <td>20.4</td>\n",
       "      <td>27370</td>\n",
       "      <td>26657</td>\n",
       "      <td>44283</td>\n",
       "      <td>...</td>\n",
       "      <td>0</td>\n",
       "      <td>0</td>\n",
       "      <td>0</td>\n",
       "      <td>1</td>\n",
       "      <td>0</td>\n",
       "      <td>0</td>\n",
       "      <td>0</td>\n",
       "      <td>0</td>\n",
       "      <td>0</td>\n",
       "      <td>0</td>\n",
       "    </tr>\n",
       "  </tbody>\n",
       "</table>\n",
       "<p>5 rows × 38 columns</p>\n",
       "</div>"
      ],
      "text/plain": [
       "   Unnamed: 0   County  Popul_16_Over  Unemployment_Rate  \\\n",
       "0           0  Calhoun           7933                1.3   \n",
       "1           1  Calhoun           7933                1.3   \n",
       "2           2  Calhoun           7933                1.3   \n",
       "3           3  Calhoun           7933                1.3   \n",
       "4           4  Calhoun           7933                1.3   \n",
       "\n",
       "   Not_in_Labor_Force_Pct  Female_Popul_16_Over  Avg_Commute_Minutes  \\\n",
       "0                    43.4                  3854                 20.4   \n",
       "1                    43.4                  3854                 20.4   \n",
       "2                    43.4                  3854                 20.4   \n",
       "3                    43.4                  3854                 20.4   \n",
       "4                    43.4                  3854                 20.4   \n",
       "\n",
       "   Per_capita_income  Median_Income  Median_Male_Income  ...  \\\n",
       "0              27370          26657               44283  ...   \n",
       "1              27370          26657               44283  ...   \n",
       "2              27370          26657               44283  ...   \n",
       "3              27370          26657               44283  ...   \n",
       "4              27370          26657               44283  ...   \n",
       "\n",
       "   Metal_Level_Gold  Metal_Level_Platinum  Metal_Level_Silver  \\\n",
       "0                 0                     0                   0   \n",
       "1                 0                     0                   0   \n",
       "2                 0                     0                   0   \n",
       "3                 0                     0                   0   \n",
       "4                 0                     0                   0   \n",
       "\n",
       "   Freedom_Life_Ins_Co  Gundersen_Ins_Co  Medica_Ins_Co  \\\n",
       "0                    1                 0              0   \n",
       "1                    1                 0              0   \n",
       "2                    1                 0              0   \n",
       "3                    1                 0              0   \n",
       "4                    1                 0              0   \n",
       "\n",
       "   Wellmark_Health_Plan_Iowa_Ins_Co  Wellmark_Synergy_Health_Ins_Co  \\\n",
       "0                                 0                               0   \n",
       "1                                 0                               0   \n",
       "2                                 0                               0   \n",
       "3                                 0                               0   \n",
       "4                                 0                               0   \n",
       "\n",
       "   Wellmark_Value_Health_Plan_Ins_Co  Wellmark_Ins_Co  \n",
       "0                                  0                0  \n",
       "1                                  0                0  \n",
       "2                                  0                0  \n",
       "3                                  0                0  \n",
       "4                                  0                0  \n",
       "\n",
       "[5 rows x 38 columns]"
      ]
     },
     "execution_count": 200,
     "metadata": {},
     "output_type": "execute_result"
    }
   ],
   "source": [
    "#Reading in dataframe that merges Iowa healthcare plan data with Iowa census economic data\n",
    "modeling_df = pd.read_csv('combined_df.csv')\n",
    "modeling_df.head()"
   ]
  },
  {
   "cell_type": "code",
   "execution_count": 201,
   "metadata": {},
   "outputs": [
    {
     "data": {
      "text/plain": [
       "Index(['Unnamed: 0', 'County', 'Popul_16_Over', 'Unemployment_Rate',\n",
       "       'Not_in_Labor_Force_Pct', 'Female_Popul_16_Over', 'Avg_Commute_Minutes',\n",
       "       'Per_capita_income', 'Median_Income', 'Median_Male_Income',\n",
       "       'Median_Female_Income', 'Priv_Health_Ins_Pct', 'Pub_Health_Ins_Pct',\n",
       "       'No_Health_Ins_Pct', 'Poverty_Rate_Total', 'Poverty_Rate_Over_65',\n",
       "       'Poverty_Rate_Children', 'Age', 'Non_Tobacco_Premium',\n",
       "       'Tobacco_Premium', 'Rating_Area_2', 'Rating_Area_3', 'Rating_Area_4',\n",
       "       'Rating_Area_5', 'Rating_Area_6', 'Rating_Area_7', 'Marketplace_On',\n",
       "       'Metal_Level_Catastrophic', 'Metal_Level_Gold', 'Metal_Level_Platinum',\n",
       "       'Metal_Level_Silver', 'Freedom_Life_Ins_Co', 'Gundersen_Ins_Co',\n",
       "       'Medica_Ins_Co', 'Wellmark_Health_Plan_Iowa_Ins_Co',\n",
       "       'Wellmark_Synergy_Health_Ins_Co', 'Wellmark_Value_Health_Plan_Ins_Co',\n",
       "       'Wellmark_Ins_Co'],\n",
       "      dtype='object')"
      ]
     },
     "execution_count": 201,
     "metadata": {},
     "output_type": "execute_result"
    }
   ],
   "source": [
    "#modeling_df.columns"
   ]
  },
  {
   "cell_type": "code",
   "execution_count": 202,
   "metadata": {},
   "outputs": [],
   "source": [
    "#Setting random state for entire notebook to get results that can be reproduced\n",
    "np.random.seed(42)"
   ]
  },
  {
   "cell_type": "code",
   "execution_count": 203,
   "metadata": {},
   "outputs": [
    {
     "name": "stdout",
     "output_type": "stream",
     "text": [
      "<class 'pandas.core.frame.DataFrame'>\n",
      "RangeIndex: 251160 entries, 0 to 251159\n",
      "Data columns (total 38 columns):\n",
      "Unnamed: 0                           251160 non-null int64\n",
      "County                               251160 non-null object\n",
      "Popul_16_Over                        251160 non-null int64\n",
      "Unemployment_Rate                    251160 non-null float64\n",
      "Not_in_Labor_Force_Pct               251160 non-null float64\n",
      "Female_Popul_16_Over                 251160 non-null int64\n",
      "Avg_Commute_Minutes                  251160 non-null float64\n",
      "Per_capita_income                    251160 non-null int64\n",
      "Median_Income                        251160 non-null int64\n",
      "Median_Male_Income                   251160 non-null int64\n",
      "Median_Female_Income                 251160 non-null int64\n",
      "Priv_Health_Ins_Pct                  251160 non-null float64\n",
      "Pub_Health_Ins_Pct                   251160 non-null float64\n",
      "No_Health_Ins_Pct                    251160 non-null float64\n",
      "Poverty_Rate_Total                   251160 non-null float64\n",
      "Poverty_Rate_Over_65                 251160 non-null float64\n",
      "Poverty_Rate_Children                251160 non-null float64\n",
      "Age                                  251160 non-null int64\n",
      "Non_Tobacco_Premium                  251160 non-null float64\n",
      "Tobacco_Premium                      251160 non-null float64\n",
      "Rating_Area_2                        251160 non-null int64\n",
      "Rating_Area_3                        251160 non-null int64\n",
      "Rating_Area_4                        251160 non-null int64\n",
      "Rating_Area_5                        251160 non-null int64\n",
      "Rating_Area_6                        251160 non-null int64\n",
      "Rating_Area_7                        251160 non-null int64\n",
      "Marketplace_On                       251160 non-null int64\n",
      "Metal_Level_Catastrophic             251160 non-null int64\n",
      "Metal_Level_Gold                     251160 non-null int64\n",
      "Metal_Level_Platinum                 251160 non-null int64\n",
      "Metal_Level_Silver                   251160 non-null int64\n",
      "Freedom_Life_Ins_Co                  251160 non-null int64\n",
      "Gundersen_Ins_Co                     251160 non-null int64\n",
      "Medica_Ins_Co                        251160 non-null int64\n",
      "Wellmark_Health_Plan_Iowa_Ins_Co     251160 non-null int64\n",
      "Wellmark_Synergy_Health_Ins_Co       251160 non-null int64\n",
      "Wellmark_Value_Health_Plan_Ins_Co    251160 non-null int64\n",
      "Wellmark_Ins_Co                      251160 non-null int64\n",
      "dtypes: float64(11), int64(26), object(1)\n",
      "memory usage: 72.8+ MB\n"
     ]
    }
   ],
   "source": [
    "#Look at column info to check for null values and make sure datatypes will work for modeling\n",
    "modeling_df.info()"
   ]
  },
  {
   "cell_type": "code",
   "execution_count": 204,
   "metadata": {},
   "outputs": [],
   "source": [
    "#drop unnamed column that is duplicate of index value column\n",
    "modeling_df = modeling_df.drop(columns = ['Unnamed: 0'])"
   ]
  },
  {
   "cell_type": "markdown",
   "metadata": {},
   "source": [
    "Will use the function below to evaluate models and decide which variables to use in subsequent models."
   ]
  },
  {
   "cell_type": "code",
   "execution_count": 205,
   "metadata": {},
   "outputs": [],
   "source": [
    "def split_and_validate_models(X, y):\n",
    "    '''\n",
    "    For a set of features and target X, y, perform a 80/20 train/val split, \n",
    "    fit and validate each linear regression model, and report results\n",
    "    Will use this function to evaluate and subsequently adjust models\n",
    "    '''\n",
    "    \n",
    "    # perform train/val split\n",
    "    X_train, X_val, y_train, y_val = \\\n",
    "        train_test_split(X, y, test_size=0.2)\n",
    "    \n",
    "    lr_model = LinearRegression()\n",
    "    lr_model.fit(X_train, y_train)\n",
    "    \n",
    "    scaler = StandardScaler()\n",
    "\n",
    "    X_train_scaled = scaler.fit_transform(X_train.values)\n",
    "    X_val_scaled = scaler.transform(X_val.values)\n",
    "    \n",
    "    \n",
    "    # fit linear regression to training data\n",
    "    ridge_model = Ridge(alpha=10)\n",
    "    ridge_model.fit(X_train_scaled, y_train)\n",
    "    lasso_model = Lasso(alpha=10)\n",
    "    lasso_model.fit(X_train_scaled, y_train)\n",
    "    \n",
    "    \n",
    "    # score fit model on validation data\n",
    "    lr_score = lr_model.score(X_val, y_val)\n",
    "    ridge_score = ridge_model.score(X_val_scaled, y_val)\n",
    "    lasso_score = lasso_model.score(X_val_scaled, y_val)\n",
    "    \n",
    "    #print results\n",
    "    print('\\nLin_Reg Validation R^2 score:', lr_score)\n",
    "    print('Feature coefficient results: \\n')\n",
    "    for feature, coef in zip(X.columns, lr_model.coef_):\n",
    "        print(feature, ':', f'{coef:.2f}') \n",
    "    print('\\nRidge Validation R^2 score:', ridge_score)\n",
    "    print('Feature coefficient results: \\n')\n",
    "    for feature, coef in zip(X.columns, ridge_model.coef_):\n",
    "        print(feature, ':', f'{coef:.2f}') \n",
    "    print('\\nLasso Validation R^2 score:', lasso_score)\n",
    "    print('Feature coefficient results: \\n')\n",
    "    for feature, coef in zip(X.columns, lasso_model.coef_):\n",
    "        print(feature, ':', f'{coef:.2f}') "
   ]
  },
  {
   "cell_type": "markdown",
   "metadata": {},
   "source": [
    "To attempt feature engineering that could have predictive value, I will create the following columns: \n",
    "\n",
    "Female population percentage for each county, difference between median income among female and male residents of each county, as well as a columns that multiples those two new values. Also creating columns for the percentage of people out of the labor force times the uninsured population, and the new poverty rate times the percentage of people with public rather than private health insurance.\n"
   ]
  },
  {
   "cell_type": "code",
   "execution_count": 206,
   "metadata": {},
   "outputs": [],
   "source": [
    "modeling_df['Female_Popul_Pct'] = modeling_df['Female_Popul_16_Over'] / modeling_df['Popul_16_Over']\n",
    "modeling_df['Med_Income_Gender_Diff'] = modeling_df['Median_Male_Income'] - modeling_df['Median_Female_Income']\n",
    "modeling_df['Uninsured_Not_in_Labor_Force_Pct'] = modeling_df['Not_in_Labor_Force_Pct'] * modeling_df['No_Health_Ins_Pct']\n",
    "modeling_df['Pub_Ins_x_Pov_Rate_Total_Pct'] = modeling_df['Poverty_Rate_Total'] * modeling_df['Pub_Health_Ins_Pct']\n",
    "modeling_df['Female_Pop_x_Income_Diff'] = modeling_df['Female_Popul_Pct'] * modeling_df['Med_Income_Gender_Diff']\n"
   ]
  },
  {
   "cell_type": "code",
   "execution_count": 207,
   "metadata": {},
   "outputs": [],
   "source": [
    "#modeling_df.columns"
   ]
  },
  {
   "cell_type": "code",
   "execution_count": 208,
   "metadata": {
    "scrolled": true
   },
   "outputs": [
    {
     "data": {
      "text/plain": [
       "Non_Tobacco_Premium                  1.000000\n",
       "Tobacco_Premium                      0.993961\n",
       "Age                                  0.819287\n",
       "Metal_Level_Silver                   0.192888\n",
       "Wellmark_Ins_Co                      0.158921\n",
       "Metal_Level_Platinum                 0.131958\n",
       "Gundersen_Ins_Co                     0.113525\n",
       "Metal_Level_Gold                     0.110452\n",
       "Rating_Area_7                        0.076043\n",
       "Wellmark_Health_Plan_Iowa_Ins_Co     0.037943\n",
       "Not_in_Labor_Force_Pct               0.030123\n",
       "Pub_Health_Ins_Pct                   0.028987\n",
       "Wellmark_Value_Health_Plan_Ins_Co    0.027375\n",
       "Poverty_Rate_Children                0.024353\n",
       "Pub_Ins_x_Pov_Rate_Total_Pct         0.021701\n",
       "Uninsured_Not_in_Labor_Force_Pct     0.015838\n",
       "Poverty_Rate_Total                   0.013959\n",
       "No_Health_Ins_Pct                    0.012090\n",
       "Rating_Area_5                        0.010905\n",
       "Poverty_Rate_Over_65                 0.005906\n",
       "Wellmark_Synergy_Health_Ins_Co       0.001528\n",
       "Unemployment_Rate                   -0.003248\n",
       "Rating_Area_3                       -0.004247\n",
       "Female_Popul_Pct                    -0.005964\n",
       "Rating_Area_4                       -0.007012\n",
       "Med_Income_Gender_Diff              -0.009635\n",
       "Female_Pop_x_Income_Diff            -0.009960\n",
       "Freedom_Life_Ins_Co                 -0.011376\n",
       "Priv_Health_Ins_Pct                 -0.019346\n",
       "Medica_Ins_Co                       -0.026044\n",
       "Avg_Commute_Minutes                 -0.029649\n",
       "Per_capita_income                   -0.032302\n",
       "Median_Income                       -0.036261\n",
       "Median_Female_Income                -0.037571\n",
       "Female_Popul_16_Over                -0.038762\n",
       "Popul_16_Over                       -0.038781\n",
       "Median_Male_Income                  -0.040264\n",
       "Rating_Area_2                       -0.050501\n",
       "Rating_Area_6                       -0.053236\n",
       "Marketplace_On                      -0.132617\n",
       "Metal_Level_Catastrophic            -0.207227\n",
       "Name: Non_Tobacco_Premium, dtype: float64"
      ]
     },
     "execution_count": 208,
     "metadata": {},
     "output_type": "execute_result"
    }
   ],
   "source": [
    "#Looking at correlations with our target variable Non_Tobacco_Premium \n",
    "#as a gage for which variables would be good to include in model\n",
    "modeling_df.corr()['Non_Tobacco_Premium'].sort_values(ascending=False)"
   ]
  },
  {
   "cell_type": "markdown",
   "metadata": {},
   "source": [
    "I will remove Tobacco premium, as it is multicollinear with the target variable."
   ]
  },
  {
   "cell_type": "code",
   "execution_count": 209,
   "metadata": {},
   "outputs": [],
   "source": [
    "#remove Tobacco_Premium since its multicollinear with the target variable\n",
    "modeling_df = modeling_df.drop(columns = ['Tobacco_Premium'])"
   ]
  },
  {
   "cell_type": "markdown",
   "metadata": {},
   "source": [
    "Start by running a model with all numeric variables."
   ]
  },
  {
   "cell_type": "code",
   "execution_count": 210,
   "metadata": {},
   "outputs": [],
   "source": [
    "y = modeling_df.Non_Tobacco_Premium\n",
    "X = modeling_df.drop(columns = ['Non_Tobacco_Premium', 'County'])"
   ]
  },
  {
   "cell_type": "code",
   "execution_count": 211,
   "metadata": {},
   "outputs": [
    {
     "name": "stdout",
     "output_type": "stream",
     "text": [
      "\n",
      "Lin_Reg Validation R^2 score: 0.8434253985291821\n",
      "Feature coefficient results: \n",
      "\n",
      "Popul_16_Over : 0.00\n",
      "Unemployment_Rate : 0.35\n",
      "Not_in_Labor_Force_Pct : -0.30\n",
      "Female_Popul_16_Over : -0.00\n",
      "Avg_Commute_Minutes : -0.05\n",
      "Per_capita_income : 0.00\n",
      "Median_Income : 0.00\n",
      "Median_Male_Income : 794040418.46\n",
      "Median_Female_Income : -794040418.46\n",
      "Priv_Health_Ins_Pct : -0.17\n",
      "Pub_Health_Ins_Pct : -0.17\n",
      "No_Health_Ins_Pct : -1.48\n",
      "Poverty_Rate_Total : -0.17\n",
      "Poverty_Rate_Over_65 : -0.08\n",
      "Poverty_Rate_Children : 0.01\n",
      "Age : 15.92\n",
      "Rating_Area_2 : -50.15\n",
      "Rating_Area_3 : -10.76\n",
      "Rating_Area_4 : 1.70\n",
      "Rating_Area_5 : -4.85\n",
      "Rating_Area_6 : -43.81\n",
      "Rating_Area_7 : 4.84\n",
      "Marketplace_On : 48.99\n",
      "Metal_Level_Catastrophic : -57.45\n",
      "Metal_Level_Gold : 236.07\n",
      "Metal_Level_Platinum : 332.43\n",
      "Metal_Level_Silver : 132.78\n",
      "Freedom_Life_Ins_Co : 204.03\n",
      "Gundersen_Ins_Co : 158.64\n",
      "Medica_Ins_Co : 103.21\n",
      "Wellmark_Health_Plan_Iowa_Ins_Co : 166.59\n",
      "Wellmark_Synergy_Health_Ins_Co : 118.33\n",
      "Wellmark_Value_Health_Plan_Ins_Co : 125.24\n",
      "Wellmark_Ins_Co : 238.27\n",
      "Female_Popul_Pct : 13.00\n",
      "Med_Income_Gender_Diff : -794040418.46\n",
      "Uninsured_Not_in_Labor_Force_Pct : 0.04\n",
      "Pub_Ins_x_Pov_Rate_Total_Pct : 0.00\n",
      "Female_Pop_x_Income_Diff : -0.00\n",
      "\n",
      "Ridge Validation R^2 score: 0.8434380895819056\n",
      "Feature coefficient results: \n",
      "\n",
      "Popul_16_Over : 2.50\n",
      "Unemployment_Rate : -0.02\n",
      "Not_in_Labor_Force_Pct : -0.18\n",
      "Female_Popul_16_Over : -2.62\n",
      "Avg_Commute_Minutes : -0.10\n",
      "Per_capita_income : 0.01\n",
      "Median_Income : 0.15\n",
      "Median_Male_Income : 0.55\n",
      "Median_Female_Income : -0.75\n",
      "Priv_Health_Ins_Pct : -0.30\n",
      "Pub_Health_Ins_Pct : -0.99\n",
      "No_Health_Ins_Pct : -0.71\n",
      "Poverty_Rate_Total : -1.20\n",
      "Poverty_Rate_Over_65 : -0.10\n",
      "Poverty_Rate_Children : 0.10\n",
      "Age : 211.31\n",
      "Rating_Area_2 : -11.50\n",
      "Rating_Area_3 : -3.47\n",
      "Rating_Area_4 : 0.82\n",
      "Rating_Area_5 : -1.50\n",
      "Rating_Area_6 : -17.60\n",
      "Rating_Area_7 : 1.99\n",
      "Marketplace_On : 24.30\n",
      "Metal_Level_Catastrophic : -14.92\n",
      "Metal_Level_Gold : 35.78\n",
      "Metal_Level_Platinum : 35.75\n",
      "Metal_Level_Silver : 66.31\n",
      "Freedom_Life_Ins_Co : 38.21\n",
      "Gundersen_Ins_Co : 46.12\n",
      "Medica_Ins_Co : 29.99\n",
      "Wellmark_Health_Plan_Iowa_Ins_Co : 66.44\n",
      "Wellmark_Synergy_Health_Ins_Co : 18.50\n",
      "Wellmark_Value_Health_Plan_Ins_Co : 36.50\n",
      "Wellmark_Ins_Co : 88.00\n",
      "Female_Popul_Pct : -0.00\n",
      "Med_Income_Gender_Diff : 1.70\n",
      "Uninsured_Not_in_Labor_Force_Pct : 0.52\n",
      "Pub_Ins_x_Pov_Rate_Total_Pct : 1.62\n",
      "Female_Pop_x_Income_Diff : -2.46\n",
      "\n",
      "Lasso Validation R^2 score: 0.8087526172341502\n",
      "Feature coefficient results: \n",
      "\n",
      "Popul_16_Over : -0.00\n",
      "Unemployment_Rate : -0.00\n",
      "Not_in_Labor_Force_Pct : 0.00\n",
      "Female_Popul_16_Over : -0.00\n",
      "Avg_Commute_Minutes : -0.00\n",
      "Per_capita_income : -0.00\n",
      "Median_Income : -0.00\n",
      "Median_Male_Income : -0.00\n",
      "Median_Female_Income : -0.00\n",
      "Priv_Health_Ins_Pct : -0.00\n",
      "Pub_Health_Ins_Pct : 0.00\n",
      "No_Health_Ins_Pct : 0.00\n",
      "Poverty_Rate_Total : 0.00\n",
      "Poverty_Rate_Over_65 : 0.00\n",
      "Poverty_Rate_Children : 0.00\n",
      "Age : 201.38\n",
      "Rating_Area_2 : -1.31\n",
      "Rating_Area_3 : -0.00\n",
      "Rating_Area_4 : 0.00\n",
      "Rating_Area_5 : 0.00\n",
      "Rating_Area_6 : -5.97\n",
      "Rating_Area_7 : 1.35\n",
      "Marketplace_On : -22.89\n",
      "Metal_Level_Catastrophic : -20.24\n",
      "Metal_Level_Gold : 25.78\n",
      "Metal_Level_Platinum : 25.42\n",
      "Metal_Level_Silver : 44.42\n",
      "Freedom_Life_Ins_Co : 0.00\n",
      "Gundersen_Ins_Co : 21.64\n",
      "Medica_Ins_Co : 2.80\n",
      "Wellmark_Health_Plan_Iowa_Ins_Co : 0.00\n",
      "Wellmark_Synergy_Health_Ins_Co : 0.00\n",
      "Wellmark_Value_Health_Plan_Ins_Co : 0.14\n",
      "Wellmark_Ins_Co : 22.26\n",
      "Female_Popul_Pct : -0.00\n",
      "Med_Income_Gender_Diff : -0.00\n",
      "Uninsured_Not_in_Labor_Force_Pct : 0.00\n",
      "Pub_Ins_x_Pov_Rate_Total_Pct : 0.00\n",
      "Female_Pop_x_Income_Diff : -0.00\n"
     ]
    }
   ],
   "source": [
    "split_and_validate_models(X, y)"
   ]
  },
  {
   "cell_type": "markdown",
   "metadata": {},
   "source": [
    "The Lasso and Ridge models have a coefficient for age that is several times higher than for any other variable. I will remove age from the models since it has by far the strongest correlation with the target variable (Non_Tobacco_Premium), and it is already widely known that health insurance premiums are explicitly based upon age. \n",
    "\n",
    "In addition, having age as the only X variable produces nearly the same model r-squared scores as having age plus any combination of X variables. I will investigate what other variables can help predict health insurance premiums."
   ]
  },
  {
   "cell_type": "code",
   "execution_count": 212,
   "metadata": {},
   "outputs": [],
   "source": [
    "y = modeling_df.Non_Tobacco_Premium\n",
    "X = modeling_df.drop(columns = ['Non_Tobacco_Premium', 'County', 'Age'])"
   ]
  },
  {
   "cell_type": "code",
   "execution_count": 213,
   "metadata": {},
   "outputs": [
    {
     "name": "stdout",
     "output_type": "stream",
     "text": [
      "\n",
      "Lin_Reg Validation R^2 score: 0.17306568254806287\n",
      "Feature coefficient results: \n",
      "\n",
      "Popul_16_Over : -0.00\n",
      "Unemployment_Rate : 0.07\n",
      "Not_in_Labor_Force_Pct : -0.00\n",
      "Female_Popul_16_Over : 0.00\n",
      "Avg_Commute_Minutes : -0.02\n",
      "Per_capita_income : 0.00\n",
      "Median_Income : -0.00\n",
      "Median_Male_Income : 509952775.94\n",
      "Median_Female_Income : -509952775.94\n",
      "Priv_Health_Ins_Pct : -0.08\n",
      "Pub_Health_Ins_Pct : 0.04\n",
      "No_Health_Ins_Pct : -1.04\n",
      "Poverty_Rate_Total : 0.85\n",
      "Poverty_Rate_Over_65 : 0.26\n",
      "Poverty_Rate_Children : 0.10\n",
      "Rating_Area_2 : -49.34\n",
      "Rating_Area_3 : -10.15\n",
      "Rating_Area_4 : 2.96\n",
      "Rating_Area_5 : -4.67\n",
      "Rating_Area_6 : -45.35\n",
      "Rating_Area_7 : 6.01\n",
      "Marketplace_On : 48.54\n",
      "Metal_Level_Catastrophic : -56.67\n",
      "Metal_Level_Gold : 236.53\n",
      "Metal_Level_Platinum : 331.68\n",
      "Metal_Level_Silver : 132.26\n",
      "Freedom_Life_Ins_Co : 204.76\n",
      "Gundersen_Ins_Co : 157.16\n",
      "Medica_Ins_Co : 102.16\n",
      "Wellmark_Health_Plan_Iowa_Ins_Co : 165.15\n",
      "Wellmark_Synergy_Health_Ins_Co : 117.62\n",
      "Wellmark_Value_Health_Plan_Ins_Co : 126.13\n",
      "Wellmark_Ins_Co : 237.65\n",
      "Female_Popul_Pct : 102.01\n",
      "Med_Income_Gender_Diff : -509952775.93\n",
      "Uninsured_Not_in_Labor_Force_Pct : 0.03\n",
      "Pub_Ins_x_Pov_Rate_Total_Pct : -0.02\n",
      "Female_Pop_x_Income_Diff : -0.01\n",
      "\n",
      "Ridge Validation R^2 score: 0.17307396669353203\n",
      "Feature coefficient results: \n",
      "\n",
      "Popul_16_Over : -17.09\n",
      "Unemployment_Rate : -0.02\n",
      "Not_in_Labor_Force_Pct : 0.23\n",
      "Female_Popul_16_Over : 16.76\n",
      "Avg_Commute_Minutes : -0.06\n",
      "Per_capita_income : 0.54\n",
      "Median_Income : -0.03\n",
      "Median_Male_Income : 4.57\n",
      "Median_Female_Income : -3.61\n",
      "Priv_Health_Ins_Pct : -0.21\n",
      "Pub_Health_Ins_Pct : -0.11\n",
      "No_Health_Ins_Pct : -1.69\n",
      "Poverty_Rate_Total : 1.32\n",
      "Poverty_Rate_Over_65 : 0.60\n",
      "Poverty_Rate_Children : 0.71\n",
      "Rating_Area_2 : -11.23\n",
      "Rating_Area_3 : -3.36\n",
      "Rating_Area_4 : 1.14\n",
      "Rating_Area_5 : -1.58\n",
      "Rating_Area_6 : -17.98\n",
      "Rating_Area_7 : 2.45\n",
      "Marketplace_On : 24.06\n",
      "Metal_Level_Catastrophic : -14.72\n",
      "Metal_Level_Gold : 35.81\n",
      "Metal_Level_Platinum : 35.70\n",
      "Metal_Level_Silver : 66.04\n",
      "Freedom_Life_Ins_Co : 38.24\n",
      "Gundersen_Ins_Co : 45.76\n",
      "Medica_Ins_Co : 29.63\n",
      "Wellmark_Health_Plan_Iowa_Ins_Co : 65.91\n",
      "Wellmark_Synergy_Health_Ins_Co : 18.24\n",
      "Wellmark_Value_Health_Plan_Ins_Co : 36.73\n",
      "Wellmark_Ins_Co : 87.88\n",
      "Female_Popul_Pct : 0.87\n",
      "Med_Income_Gender_Diff : 10.92\n",
      "Uninsured_Not_in_Labor_Force_Pct : 2.03\n",
      "Pub_Ins_x_Pov_Rate_Total_Pct : -1.93\n",
      "Female_Pop_x_Income_Diff : -14.07\n",
      "\n",
      "Lasso Validation R^2 score: 0.13904392379433128\n",
      "Feature coefficient results: \n",
      "\n",
      "Popul_16_Over : -0.00\n",
      "Unemployment_Rate : -0.00\n",
      "Not_in_Labor_Force_Pct : 0.00\n",
      "Female_Popul_16_Over : -0.00\n",
      "Avg_Commute_Minutes : -0.00\n",
      "Per_capita_income : -0.00\n",
      "Median_Income : -0.00\n",
      "Median_Male_Income : -0.00\n",
      "Median_Female_Income : -0.00\n",
      "Priv_Health_Ins_Pct : -0.00\n",
      "Pub_Health_Ins_Pct : 0.00\n",
      "No_Health_Ins_Pct : 0.00\n",
      "Poverty_Rate_Total : 0.00\n",
      "Poverty_Rate_Over_65 : 0.00\n",
      "Poverty_Rate_Children : 0.00\n",
      "Rating_Area_2 : -1.12\n",
      "Rating_Area_3 : -0.00\n",
      "Rating_Area_4 : 0.00\n",
      "Rating_Area_5 : 0.00\n",
      "Rating_Area_6 : -6.12\n",
      "Rating_Area_7 : 1.63\n",
      "Marketplace_On : -22.72\n",
      "Metal_Level_Catastrophic : -20.01\n",
      "Metal_Level_Gold : 25.72\n",
      "Metal_Level_Platinum : 25.33\n",
      "Metal_Level_Silver : 44.17\n",
      "Freedom_Life_Ins_Co : 0.00\n",
      "Gundersen_Ins_Co : 21.37\n",
      "Medica_Ins_Co : 2.49\n",
      "Wellmark_Health_Plan_Iowa_Ins_Co : 0.00\n",
      "Wellmark_Synergy_Health_Ins_Co : 0.00\n",
      "Wellmark_Value_Health_Plan_Ins_Co : 0.55\n",
      "Wellmark_Ins_Co : 22.43\n",
      "Female_Popul_Pct : -0.00\n",
      "Med_Income_Gender_Diff : -0.00\n",
      "Uninsured_Not_in_Labor_Force_Pct : 0.00\n",
      "Pub_Ins_x_Pov_Rate_Total_Pct : 0.00\n",
      "Female_Pop_x_Income_Diff : -0.00\n"
     ]
    }
   ],
   "source": [
    "split_and_validate_models(X, y)"
   ]
  },
  {
   "cell_type": "markdown",
   "metadata": {},
   "source": [
    "Model $r^{2}$  is quite low now, so will look at the target variable distribution to see if it should be transformed."
   ]
  },
  {
   "cell_type": "code",
   "execution_count": 54,
   "metadata": {},
   "outputs": [
    {
     "data": {
      "image/png": "[encoded data removed]",
      "text/plain": [
       "<Figure size 432x288 with 1 Axes>"
      ]
     },
     "metadata": {
      "needs_background": "light"
     },
     "output_type": "display_data"
    }
   ],
   "source": [
    "plt.hist(modeling_df.Non_Tobacco_Premium,bins=10)\n",
    "plt.title('Iowa Healthcare Premium Distribution')\n",
    "plt.xlabel('Monthly Price ($)')\n",
    "plt.ylabel('Number of Plans')\n",
    "plt.show()"
   ]
  },
  {
   "cell_type": "markdown",
   "metadata": {},
   "source": [
    "Since premiums are not normally distributed and model $r^{2}$  without transforming the target variable is only .17, I will add a column that is the log of the Healthcare premium price. Will use this to see if independent features are more correlated with this measure as the target variable."
   ]
  },
  {
   "cell_type": "code",
   "execution_count": 55,
   "metadata": {},
   "outputs": [],
   "source": [
    "modeling_df['Log_Premium'] = np.log(modeling_df['Non_Tobacco_Premium'])"
   ]
  },
  {
   "cell_type": "code",
   "execution_count": 56,
   "metadata": {},
   "outputs": [
    {
     "data": {
      "text/plain": [
       "Log_Premium                          1.000000\n",
       "Non_Tobacco_Premium                  0.967424\n",
       "Age                                  0.838252\n",
       "Metal_Level_Silver                   0.211683\n",
       "Wellmark_Ins_Co                      0.165571\n",
       "Gundersen_Ins_Co                     0.115907\n",
       "Metal_Level_Platinum                 0.115138\n",
       "Metal_Level_Gold                     0.107346\n",
       "Rating_Area_7                        0.077581\n",
       "Wellmark_Health_Plan_Iowa_Ins_Co     0.053448\n",
       "Not_in_Labor_Force_Pct               0.039732\n",
       "Pub_Health_Ins_Pct                   0.038027\n",
       "Wellmark_Value_Health_Plan_Ins_Co    0.037609\n",
       "Poverty_Rate_Children                0.031125\n",
       "Pub_Ins_x_Pov_Rate_Total_Pct         0.029686\n",
       "Uninsured_Not_in_Labor_Force_Pct     0.022446\n",
       "Rating_Area_5                        0.019979\n",
       "Poverty_Rate_Total                   0.019719\n",
       "No_Health_Ins_Pct                    0.017490\n",
       "Poverty_Rate_Over_65                 0.007370\n",
       "Wellmark_Synergy_Health_Ins_Co       0.005067\n",
       "Rating_Area_3                       -0.000979\n",
       "Unemployment_Rate                   -0.001649\n",
       "Freedom_Life_Ins_Co                 -0.002036\n",
       "Rating_Area_4                       -0.003035\n",
       "Female_Popul_Pct                    -0.008074\n",
       "Med_Income_Gender_Diff              -0.013348\n",
       "Female_Pop_x_Income_Diff            -0.013813\n",
       "Medica_Ins_Co                       -0.020506\n",
       "Priv_Health_Ins_Pct                 -0.027814\n",
       "Avg_Commute_Minutes                 -0.035174\n",
       "Per_capita_income                   -0.042447\n",
       "Median_Income                       -0.045484\n",
       "Median_Female_Income                -0.046691\n",
       "Popul_16_Over                       -0.048044\n",
       "Female_Popul_16_Over                -0.048048\n",
       "Median_Male_Income                  -0.051015\n",
       "Rating_Area_2                       -0.060954\n",
       "Rating_Area_6                       -0.069105\n",
       "Marketplace_On                      -0.156050\n",
       "Metal_Level_Catastrophic            -0.258572\n",
       "Name: Log_Premium, dtype: float64"
      ]
     },
     "execution_count": 56,
     "metadata": {},
     "output_type": "execute_result"
    }
   ],
   "source": [
    "modeling_df.corr()['Log_Premium'].sort_values(ascending=False)"
   ]
  },
  {
   "cell_type": "markdown",
   "metadata": {},
   "source": [
    "Since features have a slightly stronger correlation with Log_Premium, will run models with Log_Premium as target variable."
   ]
  },
  {
   "cell_type": "code",
   "execution_count": 62,
   "metadata": {},
   "outputs": [],
   "source": [
    "y = modeling_df.Log_Premium\n",
    "X = modeling_df.drop(columns = ['Non_Tobacco_Premium', 'County', 'Age', 'Log_Premium'])"
   ]
  },
  {
   "cell_type": "code",
   "execution_count": 63,
   "metadata": {},
   "outputs": [
    {
     "name": "stdout",
     "output_type": "stream",
     "text": [
      "\n",
      "Lin_Reg Validation R^2 score: 0.20679283077825872\n",
      "Feature coefficient results: \n",
      "\n",
      "Popul_16_Over : -0.00\n",
      "Unemployment_Rate : 0.00\n",
      "Not_in_Labor_Force_Pct : -0.00\n",
      "Female_Popul_16_Over : 0.00\n",
      "Avg_Commute_Minutes : 0.00\n",
      "Per_capita_income : 0.00\n",
      "Median_Income : -0.00\n",
      "Median_Male_Income : 2159696.83\n",
      "Median_Female_Income : -2159696.83\n",
      "Priv_Health_Ins_Pct : -0.00\n",
      "Pub_Health_Ins_Pct : 0.00\n",
      "No_Health_Ins_Pct : -0.00\n",
      "Poverty_Rate_Total : 0.00\n",
      "Poverty_Rate_Over_65 : 0.00\n",
      "Poverty_Rate_Children : -0.00\n",
      "Rating_Area_2 : -0.11\n",
      "Rating_Area_3 : -0.02\n",
      "Rating_Area_4 : 0.01\n",
      "Rating_Area_5 : -0.01\n",
      "Rating_Area_6 : -0.10\n",
      "Rating_Area_7 : -0.00\n",
      "Marketplace_On : 0.09\n",
      "Metal_Level_Catastrophic : -0.17\n",
      "Metal_Level_Gold : 0.38\n",
      "Metal_Level_Platinum : 0.49\n",
      "Metal_Level_Silver : 0.24\n",
      "Freedom_Life_Ins_Co : 0.39\n",
      "Gundersen_Ins_Co : 0.32\n",
      "Medica_Ins_Co : 0.21\n",
      "Wellmark_Health_Plan_Iowa_Ins_Co : 0.32\n",
      "Wellmark_Synergy_Health_Ins_Co : 0.23\n",
      "Wellmark_Value_Health_Plan_Ins_Co : 0.24\n",
      "Wellmark_Ins_Co : 0.43\n",
      "Female_Popul_Pct : 0.14\n",
      "Med_Income_Gender_Diff : -2159696.83\n",
      "Uninsured_Not_in_Labor_Force_Pct : 0.00\n",
      "Pub_Ins_x_Pov_Rate_Total_Pct : -0.00\n",
      "Female_Pop_x_Income_Diff : -0.00\n",
      "\n",
      "Ridge Validation R^2 score: 0.20680679769591526\n",
      "Feature coefficient results: \n",
      "\n",
      "Popul_16_Over : -0.02\n",
      "Unemployment_Rate : 0.00\n",
      "Not_in_Labor_Force_Pct : -0.00\n",
      "Female_Popul_16_Over : 0.02\n",
      "Avg_Commute_Minutes : 0.00\n",
      "Per_capita_income : 0.00\n",
      "Median_Income : -0.00\n",
      "Median_Male_Income : 0.01\n",
      "Median_Female_Income : -0.01\n",
      "Priv_Health_Ins_Pct : -0.00\n",
      "Pub_Health_Ins_Pct : 0.00\n",
      "No_Health_Ins_Pct : -0.00\n",
      "Poverty_Rate_Total : 0.00\n",
      "Poverty_Rate_Over_65 : 0.00\n",
      "Poverty_Rate_Children : -0.00\n",
      "Rating_Area_2 : -0.03\n",
      "Rating_Area_3 : -0.01\n",
      "Rating_Area_4 : 0.00\n",
      "Rating_Area_5 : -0.00\n",
      "Rating_Area_6 : -0.04\n",
      "Rating_Area_7 : -0.00\n",
      "Marketplace_On : 0.04\n",
      "Metal_Level_Catastrophic : -0.04\n",
      "Metal_Level_Gold : 0.06\n",
      "Metal_Level_Platinum : 0.05\n",
      "Metal_Level_Silver : 0.12\n",
      "Freedom_Life_Ins_Co : 0.07\n",
      "Gundersen_Ins_Co : 0.09\n",
      "Medica_Ins_Co : 0.06\n",
      "Wellmark_Health_Plan_Iowa_Ins_Co : 0.13\n",
      "Wellmark_Synergy_Health_Ins_Co : 0.04\n",
      "Wellmark_Value_Health_Plan_Ins_Co : 0.07\n",
      "Wellmark_Ins_Co : 0.16\n",
      "Female_Popul_Pct : 0.00\n",
      "Med_Income_Gender_Diff : 0.02\n",
      "Uninsured_Not_in_Labor_Force_Pct : 0.00\n",
      "Pub_Ins_x_Pov_Rate_Total_Pct : -0.00\n",
      "Female_Pop_x_Income_Diff : -0.02\n",
      "\n",
      "Lasso Validation R^2 score: -0.00015391510650886175\n",
      "Feature coefficient results: \n",
      "\n",
      "Popul_16_Over : -0.00\n",
      "Unemployment_Rate : -0.00\n",
      "Not_in_Labor_Force_Pct : 0.00\n",
      "Female_Popul_16_Over : -0.00\n",
      "Avg_Commute_Minutes : -0.00\n",
      "Per_capita_income : -0.00\n",
      "Median_Income : -0.00\n",
      "Median_Male_Income : -0.00\n",
      "Median_Female_Income : -0.00\n",
      "Priv_Health_Ins_Pct : -0.00\n",
      "Pub_Health_Ins_Pct : 0.00\n",
      "No_Health_Ins_Pct : 0.00\n",
      "Poverty_Rate_Total : 0.00\n",
      "Poverty_Rate_Over_65 : 0.00\n",
      "Poverty_Rate_Children : 0.00\n",
      "Rating_Area_2 : -0.00\n",
      "Rating_Area_3 : -0.00\n",
      "Rating_Area_4 : -0.00\n",
      "Rating_Area_5 : 0.00\n",
      "Rating_Area_6 : -0.00\n",
      "Rating_Area_7 : 0.00\n",
      "Marketplace_On : -0.00\n",
      "Metal_Level_Catastrophic : -0.00\n",
      "Metal_Level_Gold : 0.00\n",
      "Metal_Level_Platinum : 0.00\n",
      "Metal_Level_Silver : 0.00\n",
      "Freedom_Life_Ins_Co : -0.00\n",
      "Gundersen_Ins_Co : 0.00\n",
      "Medica_Ins_Co : -0.00\n",
      "Wellmark_Health_Plan_Iowa_Ins_Co : 0.00\n",
      "Wellmark_Synergy_Health_Ins_Co : 0.00\n",
      "Wellmark_Value_Health_Plan_Ins_Co : 0.00\n",
      "Wellmark_Ins_Co : 0.00\n",
      "Female_Popul_Pct : -0.00\n",
      "Med_Income_Gender_Diff : -0.00\n",
      "Uninsured_Not_in_Labor_Force_Pct : 0.00\n",
      "Pub_Ins_x_Pov_Rate_Total_Pct : 0.00\n",
      "Female_Pop_x_Income_Diff : -0.00\n"
     ]
    }
   ],
   "source": [
    "split_and_validate_models(X, y)"
   ]
  },
  {
   "cell_type": "markdown",
   "metadata": {},
   "source": [
    "While running the model with the log transformed target variable produces a slightly higher $r^2$ for Ridge and Linear Regression, the model is not interpretable with all coefficients zeroed out. Therefore, will use the non-transformed premium price as the target variable for the final model."
   ]
  },
  {
   "cell_type": "markdown",
   "metadata": {},
   "source": [
    "The following lists and correlation plots are just for illustrative purposes to be included in the presentation.\n",
    "Modeling continues right after.\n"
   ]
  },
  {
   "cell_type": "code",
   "execution_count": 194,
   "metadata": {},
   "outputs": [],
   "source": [
    "healthcare_plan_features = ['Age', 'Rating_Area_2', 'Rating_Area_3', 'Rating_Area_4', 'Rating_Area_5', 'Rating_Area_6', 'Rating_Area_7',\n",
    "                           'Marketplace_On', 'Metal_Level_Silver', 'Metal_Level_Gold', 'Metal_Level_Platinum', 'Metal_Level_Catastrophic',\n",
    "                           'Freedom_Life_Ins_Co', 'Medica_Ins_Co', 'Wellmark_Ins_Co', 'Gundersen_Ins_Co',\n",
    "                            'Wellmark_Health_Plan_Iowa_Ins_Co', 'Wellmark_Value_Health_Plan_Ins_Co', 'Non_Tobacco_Premium']"
   ]
  },
  {
   "cell_type": "code",
   "execution_count": 195,
   "metadata": {},
   "outputs": [],
   "source": [
    "census_features = ['Non_Tobacco_Premium', 'Median_Income', 'Not_in_Labor_Force_Pct', 'Pub_Health_Ins_Pct', 'Poverty_Rate_Children', 'Pub_Ins_x_Pov_Rate_Total_Pct', 'Uninsured_Not_in_Labor_Force_Pct', 'Poverty_Rate_Total', 'No_Health_Ins_Pct', 'Poverty_Rate_Over_65',\n",
    "                   'Unemployment_Rate', 'Female_Popul_Pct', 'Med_Income_Gender_Diff', 'Female_Pop_x_Income_Diff', 'Priv_Health_Ins_Pct', 'Per_capita_income']  \n",
    "                   "
   ]
  },
  {
   "cell_type": "code",
   "execution_count": 59,
   "metadata": {
    "scrolled": true
   },
   "outputs": [
    {
     "data": {
      "image/png": "[encoded data removed]",
      "text/plain": [
       "<Figure size 576x576 with 1 Axes>"
      ]
     },
     "metadata": {
      "needs_background": "light"
     },
     "output_type": "display_data"
    }
   ],
   "source": [
    "plt.rcParams['figure.figsize'] = [8, 8]\n",
    "healthcare_plan_corr = modeling_df[healthcare_plan_features].corr()['Non_Tobacco_Premium'].sort_values(ascending=False).plot(kind='barh', color='Green');\n",
    "fig1 = healthcare_plan_corr.get_figure()\n",
    "fig1.savefig('healthcare_plan_corr.png', bbox_inches = 'tight')"
   ]
  },
  {
   "cell_type": "code",
   "execution_count": null,
   "metadata": {},
   "outputs": [],
   "source": [
    "plt.rcParams['figure.figsize'] = [8, 8]\n",
    "census_corr = modeling_df[census_features].corr()['Non_Tobacco_Premium'].sort_values(ascending=False).plot(kind='barh', color='Purple');\n",
    "fig2 = census_corr.get_figure()\n",
    "fig2.savefig('census_corr.png', bbox_inches = 'tight')\n",
    "\n"
   ]
  },
  {
   "cell_type": "markdown",
   "metadata": {},
   "source": [
    "I will now run models that remove variables related to job status, income, female population, commute, poverty rates, and type of health insurance held, since they all have correlations with premium price below 0.05, and model coefficents at or near zero. new_x below contains remaining variables. "
   ]
  },
  {
   "cell_type": "code",
   "execution_count": 118,
   "metadata": {},
   "outputs": [],
   "source": [
    "#New list of features that excludes columns explained above\n",
    "new_x = ['Metal_Level_Silver', 'Wellmark_Ins_Co', 'Metal_Level_Platinum', 'Metal_Level_Gold',                   \n",
    "        'Wellmark_Health_Plan_Iowa_Ins_Co', 'Wellmark_Value_Health_Plan_Ins_Co', 'Rating_Area_7',\n",
    "        'Freedom_Life_Ins_Co', 'Medica_Ins_Co', 'Marketplace_On', 'Rating_Area_6', 'Rating_Area_5',\n",
    "         'Rating_Area_2', 'Rating_Area_3', 'Rating_Area_4', 'Metal_Level_Catastrophic', 'Gundersen_Ins_Co']"
   ]
  },
  {
   "cell_type": "code",
   "execution_count": 119,
   "metadata": {},
   "outputs": [],
   "source": [
    "y = modeling_df.Non_Tobacco_Premium\n",
    "X = modeling_df[new_x]"
   ]
  },
  {
   "cell_type": "code",
   "execution_count": 120,
   "metadata": {},
   "outputs": [
    {
     "name": "stdout",
     "output_type": "stream",
     "text": [
      "\n",
      "Lin_Reg Validation R^2 score: 0.16929433267106264\n",
      "Feature coefficient results: \n",
      "\n",
      "Metal_Level_Silver : 129.97\n",
      "Wellmark_Ins_Co : 194.51\n",
      "Metal_Level_Platinum : 332.56\n",
      "Metal_Level_Gold : 247.43\n",
      "Wellmark_Health_Plan_Iowa_Ins_Co : 122.29\n",
      "Wellmark_Value_Health_Plan_Ins_Co : 102.80\n",
      "Rating_Area_7 : 6.26\n",
      "Freedom_Life_Ins_Co : 157.33\n",
      "Medica_Ins_Co : 92.63\n",
      "Marketplace_On : 13.61\n",
      "Rating_Area_6 : -38.53\n",
      "Rating_Area_5 : 6.75\n",
      "Rating_Area_2 : -52.93\n",
      "Rating_Area_3 : -9.44\n",
      "Rating_Area_4 : 0.37\n",
      "Metal_Level_Catastrophic : -63.66\n",
      "Gundersen_Ins_Co : 146.63\n",
      "\n",
      "Ridge Validation R^2 score: 0.16929357218647514\n",
      "Feature coefficient results: \n",
      "\n",
      "Metal_Level_Silver : 64.90\n",
      "Wellmark_Ins_Co : 71.91\n",
      "Metal_Level_Platinum : 35.78\n",
      "Metal_Level_Gold : 37.39\n",
      "Wellmark_Health_Plan_Iowa_Ins_Co : 48.83\n",
      "Wellmark_Value_Health_Plan_Ins_Co : 29.96\n",
      "Rating_Area_7 : 2.50\n",
      "Freedom_Life_Ins_Co : 29.41\n",
      "Medica_Ins_Co : 26.89\n",
      "Marketplace_On : 6.73\n",
      "Rating_Area_6 : -15.33\n",
      "Rating_Area_5 : 2.37\n",
      "Rating_Area_2 : -12.02\n",
      "Rating_Area_3 : -3.16\n",
      "Rating_Area_4 : 0.14\n",
      "Metal_Level_Catastrophic : -16.51\n",
      "Gundersen_Ins_Co : 42.76\n",
      "\n",
      "Lasso Validation R^2 score: 0.13805422011533441\n",
      "Feature coefficient results: \n",
      "\n",
      "Metal_Level_Silver : 44.27\n",
      "Wellmark_Ins_Co : 22.48\n",
      "Metal_Level_Platinum : 25.38\n",
      "Metal_Level_Gold : 25.30\n",
      "Wellmark_Health_Plan_Iowa_Ins_Co : 0.00\n",
      "Wellmark_Value_Health_Plan_Ins_Co : 0.37\n",
      "Rating_Area_7 : 1.30\n",
      "Freedom_Life_Ins_Co : 0.00\n",
      "Medica_Ins_Co : 2.09\n",
      "Marketplace_On : -22.87\n",
      "Rating_Area_6 : -5.48\n",
      "Rating_Area_5 : 0.00\n",
      "Rating_Area_2 : -1.93\n",
      "Rating_Area_3 : -0.00\n",
      "Rating_Area_4 : 0.00\n",
      "Metal_Level_Catastrophic : -19.93\n",
      "Gundersen_Ins_Co : 21.57\n"
     ]
    }
   ],
   "source": [
    "split_and_validate_models(X, y)"
   ]
  },
  {
   "cell_type": "markdown",
   "metadata": {},
   "source": [
    "This smaller set of dependent variables in x_new produces an $r^{2}$ score very similar to using the full set of dependent variables without age, so will try to cut the list down further by removing some rating areas. "
   ]
  },
  {
   "cell_type": "code",
   "execution_count": 145,
   "metadata": {},
   "outputs": [],
   "source": [
    "new_x2 = ['Metal_Level_Silver', 'Wellmark_Ins_Co', 'Metal_Level_Platinum', 'Metal_Level_Gold',                   \n",
    "         'Wellmark_Value_Health_Plan_Ins_Co', 'Wellmark_Health_Plan_Iowa_Ins_Co',\n",
    "        'Freedom_Life_Ins_Co', 'Medica_Ins_Co', 'Rating_Area_2', 'Rating_Area_6', 'Marketplace_On', 'Metal_Level_Catastrophic', 'Gundersen_Ins_Co']"
   ]
  },
  {
   "cell_type": "code",
   "execution_count": 146,
   "metadata": {},
   "outputs": [],
   "source": [
    "y = modeling_df.Non_Tobacco_Premium\n",
    "X = modeling_df[new_x2]"
   ]
  },
  {
   "cell_type": "code",
   "execution_count": 147,
   "metadata": {
    "scrolled": false
   },
   "outputs": [
    {
     "name": "stdout",
     "output_type": "stream",
     "text": [
      "\n",
      "Lin_Reg Validation R^2 score: 0.17016660698182817\n",
      "Feature coefficient results: \n",
      "\n",
      "Metal_Level_Silver : 130.33\n",
      "Wellmark_Ins_Co : 193.70\n",
      "Metal_Level_Platinum : 323.39\n",
      "Metal_Level_Gold : 246.84\n",
      "Wellmark_Value_Health_Plan_Ins_Co : 101.20\n",
      "Wellmark_Health_Plan_Iowa_Ins_Co : 120.63\n",
      "Freedom_Life_Ins_Co : 157.45\n",
      "Medica_Ins_Co : 94.36\n",
      "Rating_Area_2 : -52.40\n",
      "Rating_Area_6 : -41.07\n",
      "Marketplace_On : 13.41\n",
      "Metal_Level_Catastrophic : -64.53\n",
      "Gundersen_Ins_Co : 150.92\n",
      "\n",
      "Ridge Validation R^2 score: 0.17016596705461207\n",
      "Feature coefficient results: \n",
      "\n",
      "Metal_Level_Silver : 65.07\n",
      "Wellmark_Ins_Co : 71.43\n",
      "Metal_Level_Platinum : 34.81\n",
      "Metal_Level_Gold : 37.43\n",
      "Wellmark_Value_Health_Plan_Ins_Co : 29.47\n",
      "Wellmark_Health_Plan_Iowa_Ins_Co : 48.15\n",
      "Freedom_Life_Ins_Co : 29.45\n",
      "Medica_Ins_Co : 27.45\n",
      "Rating_Area_2 : -11.92\n",
      "Rating_Area_6 : -16.34\n",
      "Marketplace_On : 6.62\n",
      "Metal_Level_Catastrophic : -16.79\n",
      "Gundersen_Ins_Co : 43.89\n",
      "\n",
      "Lasso Validation R^2 score: 0.13906822253311923\n",
      "Feature coefficient results: \n",
      "\n",
      "Metal_Level_Silver : 44.44\n",
      "Wellmark_Ins_Co : 22.61\n",
      "Metal_Level_Platinum : 24.41\n",
      "Metal_Level_Gold : 25.18\n",
      "Wellmark_Value_Health_Plan_Ins_Co : 0.13\n",
      "Wellmark_Health_Plan_Iowa_Ins_Co : 0.00\n",
      "Freedom_Life_Ins_Co : 0.00\n",
      "Medica_Ins_Co : 2.81\n",
      "Rating_Area_2 : -1.66\n",
      "Rating_Area_6 : -6.22\n",
      "Marketplace_On : -22.57\n",
      "Metal_Level_Catastrophic : -20.18\n",
      "Gundersen_Ins_Co : 22.49\n"
     ]
    }
   ],
   "source": [
    "split_and_validate_models(X, y)"
   ]
  },
  {
   "cell_type": "markdown",
   "metadata": {},
   "source": [
    "By removing some rating areas, model $r^2$ stays very similar. We will see if we can maintain or increase $r^2$ by removing more variables using new_x3 below."
   ]
  },
  {
   "cell_type": "code",
   "execution_count": 142,
   "metadata": {},
   "outputs": [],
   "source": [
    "new_x3 = ['Metal_Level_Silver', 'Wellmark_Ins_Co', 'Metal_Level_Platinum', 'Metal_Level_Gold',                   \n",
    "         'Wellmark_Value_Health_Plan_Ins_Co', 'Marketplace_On',\n",
    "        'Freedom_Life_Ins_Co', 'Medica_Ins_Co', 'Metal_Level_Catastrophic', 'Gundersen_Ins_Co']"
   ]
  },
  {
   "cell_type": "code",
   "execution_count": 143,
   "metadata": {},
   "outputs": [],
   "source": [
    "y = modeling_df.Non_Tobacco_Premium\n",
    "X = modeling_df[new_x3]"
   ]
  },
  {
   "cell_type": "code",
   "execution_count": 144,
   "metadata": {},
   "outputs": [
    {
     "name": "stdout",
     "output_type": "stream",
     "text": [
      "\n",
      "Lin_Reg Validation R^2 score: 0.15737381050861154\n",
      "Feature coefficient results: \n",
      "\n",
      "Metal_Level_Silver : 130.12\n",
      "Wellmark_Ins_Co : 88.09\n",
      "Metal_Level_Platinum : 332.42\n",
      "Metal_Level_Gold : 250.21\n",
      "Wellmark_Value_Health_Plan_Ins_Co : 58.82\n",
      "Marketplace_On : -86.21\n",
      "Freedom_Life_Ins_Co : 53.03\n",
      "Medica_Ins_Co : 89.58\n",
      "Metal_Level_Catastrophic : -70.98\n",
      "Gundersen_Ins_Co : 134.99\n",
      "\n",
      "Ridge Validation R^2 score: 0.1573736246911568\n",
      "Feature coefficient results: \n",
      "\n",
      "Metal_Level_Silver : 64.97\n",
      "Wellmark_Ins_Co : 32.51\n",
      "Metal_Level_Platinum : 35.80\n",
      "Metal_Level_Gold : 37.82\n",
      "Wellmark_Value_Health_Plan_Ins_Co : 17.15\n",
      "Marketplace_On : -42.86\n",
      "Freedom_Life_Ins_Co : 9.93\n",
      "Medica_Ins_Co : 26.13\n",
      "Metal_Level_Catastrophic : -18.42\n",
      "Gundersen_Ins_Co : 39.24\n",
      "\n",
      "Lasso Validation R^2 score: 0.13601325825199695\n",
      "Feature coefficient results: \n",
      "\n",
      "Metal_Level_Silver : 44.60\n",
      "Wellmark_Ins_Co : 21.87\n",
      "Metal_Level_Platinum : 25.41\n",
      "Metal_Level_Gold : 24.97\n",
      "Wellmark_Value_Health_Plan_Ins_Co : 0.41\n",
      "Marketplace_On : -23.43\n",
      "Freedom_Life_Ins_Co : 0.00\n",
      "Medica_Ins_Co : 2.99\n",
      "Metal_Level_Catastrophic : -20.26\n",
      "Gundersen_Ins_Co : 20.92\n"
     ]
    }
   ],
   "source": [
    "split_and_validate_models(X, y)"
   ]
  },
  {
   "cell_type": "markdown",
   "metadata": {},
   "source": [
    "By further removing any variables from x2_new, such as insurance companies, the final two rating areas, or whether the plan is on the healthcare marketplace, model validation $r^2$ is reduced by at least .5. I will now input variables from new_x2 above into Statsmodels and keep all of them for our final model if they all have low p-values. "
   ]
  },
  {
   "cell_type": "code",
   "execution_count": 148,
   "metadata": {
    "scrolled": true
   },
   "outputs": [
    {
     "data": {
      "text/html": [
       "<table class=\"simpletable\">\n",
       "<caption>OLS Regression Results</caption>\n",
       "<tr>\n",
       "  <th>Dep. Variable:</th>    <td>Non_Tobacco_Premium</td> <th>  R-squared:         </th>  <td>   0.168</td>  \n",
       "</tr>\n",
       "<tr>\n",
       "  <th>Model:</th>                    <td>OLS</td>         <th>  Adj. R-squared:    </th>  <td>   0.168</td>  \n",
       "</tr>\n",
       "<tr>\n",
       "  <th>Method:</th>              <td>Least Squares</td>    <th>  F-statistic:       </th>  <td>   3909.</td>  \n",
       "</tr>\n",
       "<tr>\n",
       "  <th>Date:</th>              <td>Sun, 21 Apr 2019</td>   <th>  Prob (F-statistic):</th>   <td>  0.00</td>   \n",
       "</tr>\n",
       "<tr>\n",
       "  <th>Time:</th>                  <td>12:27:05</td>       <th>  Log-Likelihood:    </th> <td>-1.7278e+06</td>\n",
       "</tr>\n",
       "<tr>\n",
       "  <th>No. Observations:</th>       <td>251160</td>        <th>  AIC:               </th>  <td>3.456e+06</td> \n",
       "</tr>\n",
       "<tr>\n",
       "  <th>Df Residuals:</th>           <td>251146</td>        <th>  BIC:               </th>  <td>3.456e+06</td> \n",
       "</tr>\n",
       "<tr>\n",
       "  <th>Df Model:</th>               <td>    13</td>        <th>                     </th>      <td> </td>     \n",
       "</tr>\n",
       "<tr>\n",
       "  <th>Covariance Type:</th>       <td>nonrobust</td>      <th>                     </th>      <td> </td>     \n",
       "</tr>\n",
       "</table>\n",
       "<table class=\"simpletable\">\n",
       "<tr>\n",
       "                  <td></td>                     <th>coef</th>     <th>std err</th>      <th>t</th>      <th>P>|t|</th>  <th>[0.025</th>    <th>0.975]</th>  \n",
       "</tr>\n",
       "<tr>\n",
       "  <th>Intercept</th>                         <td>  394.4397</td> <td>    2.741</td> <td>  143.925</td> <td> 0.000</td> <td>  389.068</td> <td>  399.811</td>\n",
       "</tr>\n",
       "<tr>\n",
       "  <th>Metal_Level_Silver</th>                <td>  130.4369</td> <td>    1.071</td> <td>  121.797</td> <td> 0.000</td> <td>  128.338</td> <td>  132.536</td>\n",
       "</tr>\n",
       "<tr>\n",
       "  <th>Wellmark_Ins_Co</th>                   <td>  193.8731</td> <td>    2.894</td> <td>   66.996</td> <td> 0.000</td> <td>  188.201</td> <td>  199.545</td>\n",
       "</tr>\n",
       "<tr>\n",
       "  <th>Rating_Area_6</th>                     <td>  -41.2481</td> <td>    1.215</td> <td>  -33.939</td> <td> 0.000</td> <td>  -43.630</td> <td>  -38.866</td>\n",
       "</tr>\n",
       "<tr>\n",
       "  <th>Rating_Area_2</th>                     <td>  -52.4549</td> <td>    2.079</td> <td>  -25.236</td> <td> 0.000</td> <td>  -56.529</td> <td>  -48.381</td>\n",
       "</tr>\n",
       "<tr>\n",
       "  <th>Metal_Level_Platinum</th>              <td>  330.6674</td> <td>    4.689</td> <td>   70.513</td> <td> 0.000</td> <td>  321.476</td> <td>  339.859</td>\n",
       "</tr>\n",
       "<tr>\n",
       "  <th>Metal_Level_Gold</th>                  <td>  248.7711</td> <td>    3.276</td> <td>   75.937</td> <td> 0.000</td> <td>  242.350</td> <td>  255.192</td>\n",
       "</tr>\n",
       "<tr>\n",
       "  <th>Wellmark_Health_Plan_Iowa_Ins_Co</th>  <td>  121.9803</td> <td>    2.851</td> <td>   42.783</td> <td> 0.000</td> <td>  116.392</td> <td>  127.569</td>\n",
       "</tr>\n",
       "<tr>\n",
       "  <th>Wellmark_Value_Health_Plan_Ins_Co</th> <td>  102.6961</td> <td>    1.993</td> <td>   51.536</td> <td> 0.000</td> <td>   98.790</td> <td>  106.602</td>\n",
       "</tr>\n",
       "<tr>\n",
       "  <th>Freedom_Life_Ins_Co</th>               <td>  158.3970</td> <td>    3.670</td> <td>   43.158</td> <td> 0.000</td> <td>  151.204</td> <td>  165.590</td>\n",
       "</tr>\n",
       "<tr>\n",
       "  <th>Medica_Ins_Co</th>                     <td>   94.3937</td> <td>    1.769</td> <td>   53.365</td> <td> 0.000</td> <td>   90.927</td> <td>   97.861</td>\n",
       "</tr>\n",
       "<tr>\n",
       "  <th>Marketplace_On</th>                    <td>   13.9444</td> <td>    2.606</td> <td>    5.351</td> <td> 0.000</td> <td>    8.837</td> <td>   19.052</td>\n",
       "</tr>\n",
       "<tr>\n",
       "  <th>Metal_Level_Catastrophic</th>          <td>  -64.0640</td> <td>    2.037</td> <td>  -31.444</td> <td> 0.000</td> <td>  -68.057</td> <td>  -60.071</td>\n",
       "</tr>\n",
       "<tr>\n",
       "  <th>Gundersen_Ins_Co</th>                  <td>  150.4448</td> <td>    1.927</td> <td>   78.085</td> <td> 0.000</td> <td>  146.669</td> <td>  154.221</td>\n",
       "</tr>\n",
       "</table>\n",
       "<table class=\"simpletable\">\n",
       "<tr>\n",
       "  <th>Omnibus:</th>       <td>25226.129</td> <th>  Durbin-Watson:     </th> <td>   1.966</td> \n",
       "</tr>\n",
       "<tr>\n",
       "  <th>Prob(Omnibus):</th>  <td> 0.000</td>   <th>  Jarque-Bera (JB):  </th> <td>33743.228</td>\n",
       "</tr>\n",
       "<tr>\n",
       "  <th>Skew:</th>           <td> 0.897</td>   <th>  Prob(JB):          </th> <td>    0.00</td> \n",
       "</tr>\n",
       "<tr>\n",
       "  <th>Kurtosis:</th>       <td> 2.920</td>   <th>  Cond. No.          </th> <td>    17.6</td> \n",
       "</tr>\n",
       "</table><br/><br/>Warnings:<br/>[1] Standard Errors assume that the covariance matrix of the errors is correctly specified."
      ],
      "text/plain": [
       "<class 'statsmodels.iolib.summary.Summary'>\n",
       "\"\"\"\n",
       "                             OLS Regression Results                            \n",
       "===============================================================================\n",
       "Dep. Variable:     Non_Tobacco_Premium   R-squared:                       0.168\n",
       "Model:                             OLS   Adj. R-squared:                  0.168\n",
       "Method:                  Least Squares   F-statistic:                     3909.\n",
       "Date:                 Sun, 21 Apr 2019   Prob (F-statistic):               0.00\n",
       "Time:                         12:27:05   Log-Likelihood:            -1.7278e+06\n",
       "No. Observations:               251160   AIC:                         3.456e+06\n",
       "Df Residuals:                   251146   BIC:                         3.456e+06\n",
       "Df Model:                           13                                         \n",
       "Covariance Type:             nonrobust                                         \n",
       "=====================================================================================================\n",
       "                                        coef    std err          t      P>|t|      [0.025      0.975]\n",
       "-----------------------------------------------------------------------------------------------------\n",
       "Intercept                           394.4397      2.741    143.925      0.000     389.068     399.811\n",
       "Metal_Level_Silver                  130.4369      1.071    121.797      0.000     128.338     132.536\n",
       "Wellmark_Ins_Co                     193.8731      2.894     66.996      0.000     188.201     199.545\n",
       "Rating_Area_6                       -41.2481      1.215    -33.939      0.000     -43.630     -38.866\n",
       "Rating_Area_2                       -52.4549      2.079    -25.236      0.000     -56.529     -48.381\n",
       "Metal_Level_Platinum                330.6674      4.689     70.513      0.000     321.476     339.859\n",
       "Metal_Level_Gold                    248.7711      3.276     75.937      0.000     242.350     255.192\n",
       "Wellmark_Health_Plan_Iowa_Ins_Co    121.9803      2.851     42.783      0.000     116.392     127.569\n",
       "Wellmark_Value_Health_Plan_Ins_Co   102.6961      1.993     51.536      0.000      98.790     106.602\n",
       "Freedom_Life_Ins_Co                 158.3970      3.670     43.158      0.000     151.204     165.590\n",
       "Medica_Ins_Co                        94.3937      1.769     53.365      0.000      90.927      97.861\n",
       "Marketplace_On                       13.9444      2.606      5.351      0.000       8.837      19.052\n",
       "Metal_Level_Catastrophic            -64.0640      2.037    -31.444      0.000     -68.057     -60.071\n",
       "Gundersen_Ins_Co                    150.4448      1.927     78.085      0.000     146.669     154.221\n",
       "==============================================================================\n",
       "Omnibus:                    25226.129   Durbin-Watson:                   1.966\n",
       "Prob(Omnibus):                  0.000   Jarque-Bera (JB):            33743.228\n",
       "Skew:                           0.897   Prob(JB):                         0.00\n",
       "Kurtosis:                       2.920   Cond. No.                         17.6\n",
       "==============================================================================\n",
       "\n",
       "Warnings:\n",
       "[1] Standard Errors assume that the covariance matrix of the errors is correctly specified.\n",
       "\"\"\""
      ]
     },
     "execution_count": 148,
     "metadata": {},
     "output_type": "execute_result"
    }
   ],
   "source": [
    "#Variables in x_new are the dependent variables[\n",
    "lm1 = smf.ols('Non_Tobacco_Premium ~ Metal_Level_Silver + Wellmark_Ins_Co + Rating_Area_6 + Rating_Area_2 + Metal_Level_Platinum + Metal_Level_Gold + Wellmark_Health_Plan_Iowa_Ins_Co + Wellmark_Value_Health_Plan_Ins_Co + Freedom_Life_Ins_Co + Medica_Ins_Co + Marketplace_On + Metal_Level_Catastrophic + Gundersen_Ins_Co', data=modeling_df)\n",
    "fit1 = lm1.fit()\n",
    "fit1.summary()"
   ]
  },
  {
   "cell_type": "markdown",
   "metadata": {},
   "source": [
    "Since all variables in Statsmodels above help increase $r^2$ squared, and have p-values approaching zero, we will keep them for our final model. Our final set of variables is new_x2."
   ]
  },
  {
   "cell_type": "markdown",
   "metadata": {},
   "source": [
    "Now I will plot actual vs predicted values to see if the errors uncorrelated"
   ]
  },
  {
   "cell_type": "code",
   "execution_count": 149,
   "metadata": {
    "scrolled": true
   },
   "outputs": [
    {
     "data": {
      "text/plain": [
       "Text(0, 0.5, 'Predicted Y Values')"
      ]
     },
     "execution_count": 149,
     "metadata": {},
     "output_type": "execute_result"
    },
    {
     "data": {
      "image/png": "[encoded data removed]",
      "text/plain": [
       "<Figure size 576x576 with 1 Axes>"
      ]
     },
     "metadata": {
      "needs_background": "light"
     },
     "output_type": "display_data"
    }
   ],
   "source": [
    "X = modeling_df[new_x2]\n",
    "#Need to do train_test_split and create model since only done within functions to this point\n",
    "X_train, X_val, y_train, y_val = train_test_split(X, y, test_size=0.2)\n",
    "lr_model = LinearRegression()\n",
    "lr_model_fit = lr_model.fit(X_train, y_train)\n",
    "y_pred = lr_model_fit.predict(X_train)\n",
    "\n",
    "plt.scatter(y_train,y_pred, marker='+', alpha=0.1) \n",
    "plt.plot(np.linspace(1,1600,1600), 'tab:red')\n",
    "plt.title('Actual vs. Predicted Y Values')\n",
    "plt.xlabel('Actual Y Values')\n",
    "plt.ylabel('Predicted Y Values')"
   ]
  },
  {
   "cell_type": "markdown",
   "metadata": {},
   "source": [
    "The relationship between actual and predicted values is non-linear so we may need to correct that.\n",
    "\n",
    "Will now plot residuals to look for a relationship"
   ]
  },
  {
   "cell_type": "code",
   "execution_count": 151,
   "metadata": {},
   "outputs": [
    {
     "data": {
      "text/plain": [
       "Text(0, 0.5, 'Residuals')"
      ]
     },
     "execution_count": 151,
     "metadata": {},
     "output_type": "execute_result"
    },
    {
     "data": {
      "image/png": "[encoded data removed]",
      "text/plain": [
       "<Figure size 576x576 with 1 Axes>"
      ]
     },
     "metadata": {
      "needs_background": "light"
     },
     "output_type": "display_data"
    }
   ],
   "source": [
    "residuals = y_train.values-y_pred\n",
    "\n",
    "#plot actual observation against residual\n",
    "plt.scatter(y_pred, residuals, marker='+') \n",
    "plt.title('Predicted Y Values vs. Residuals')\n",
    "plt.xlabel('Predicted Y Values')\n",
    "plt.ylabel('Residuals')"
   ]
  },
  {
   "cell_type": "markdown",
   "metadata": {},
   "source": [
    "The residual plot clearly shows heteroskedasticity, which needs to be corrected. Will look at relationships between variables \n",
    "to decide what to do."
   ]
  },
  {
   "cell_type": "code",
   "execution_count": 41,
   "metadata": {},
   "outputs": [
    {
     "data": {
      "image/png": "[encoded data removed]",
      "text/plain": [
       "<Figure size 3060x3060 with 306 Axes>"
      ]
     },
     "metadata": {
      "needs_background": "light"
     },
     "output_type": "display_data"
    }
   ],
   "source": [
    "pairplot = sns.pairplot(modeling_df[new_x]) "
   ]
  },
  {
   "cell_type": "markdown",
   "metadata": {},
   "source": [
    "The pairplots only include categorical variables, so cannot gather much from pairplot. It is generally not advised to use a linear regression model without continuous variables. However, none of my continuous variables improved the model. \n",
    "\n",
    "Will try polynomial regression to see if it corrects for skewed residuals."
   ]
  },
  {
   "cell_type": "code",
   "execution_count": 28,
   "metadata": {},
   "outputs": [],
   "source": [
    "def polynomial_linear_regression(degree, polynomial_r2_scores, polynomial_RMSE_scores):\n",
    "    polynom_model = make_pipeline(PolynomialFeatures(degree), LinearRegression())\n",
    "    polynom_fit = polynom_model.fit(X_train, y_train)\n",
    "    polynomial_r2_scores.append(polynom_fit.score(X_train,y_train))\n",
    "    polynom_predict = polynom_fit.predict(X_train)\n",
    "    polynomial_RMSE_scores.append(np.sqrt(mean_squared_error(y_train,polynom_predict)))\n",
    "    return polynomial_r2_scores, polynomial_RMSE_scores"
   ]
  },
  {
   "cell_type": "code",
   "execution_count": 29,
   "metadata": {},
   "outputs": [
    {
     "name": "stdout",
     "output_type": "stream",
     "text": [
      "Polynomial degree: 1\n",
      "Train R Sqr: 0.1686432669671706\n",
      "Train RMSE: $235.66058842864288\n",
      "\n",
      "Polynomial degree: 2\n",
      "Train R Sqr: 0.17999348121905878\n",
      "Train RMSE: $234.0463652950488\n",
      "\n",
      "Polynomial degree: 3\n",
      "Train R Sqr: 0.1802821012932564\n",
      "Train RMSE: $234.00517268084346\n",
      "\n",
      "Polynomial degree: 4\n",
      "Train R Sqr: 0.18015721548882924\n",
      "Train RMSE: $234.02299760041586\n",
      "\n",
      "Polynomial degree: 5\n",
      "Train R Sqr: 0.18027215046512443\n",
      "Train RMSE: $234.00659300983241\n",
      "\n"
     ]
    }
   ],
   "source": [
    "polynomial_r2_scores = []\n",
    "polynomial_RMSE_scores = []\n",
    "for degree in range(1,6):\n",
    "    polynomial_linear_regression(degree, polynomial_r2_scores, polynomial_RMSE_scores)\n",
    "\n",
    "for i in range(len(polynomial_r2_scores)):\n",
    "    print('Polynomial degree: %s'%(i+1))\n",
    "    print('Train R Sqr: %s''\\n'\n",
    "           'Train RMSE: $%s' %(polynomial_r2_scores[i],polynomial_RMSE_scores[i]))\n",
    "    print('')\n"
   ]
  },
  {
   "cell_type": "code",
   "execution_count": 37,
   "metadata": {},
   "outputs": [],
   "source": [
    "degree = 4\n",
    "polynom_model = make_pipeline(PolynomialFeatures(degree), LinearRegression())\n",
    "polynom_fit = polynom_model.fit(X_train, y_train)\n",
    "polynomial_r2_score = polynom_fit.score(X_train,y_train)\n",
    "polynom_predict = polynom_fit.predict(X_train)\n",
    "polynomial_RMSE_score = np.sqrt(mean_squared_error(y_train,polynom_predict))"
   ]
  },
  {
   "cell_type": "code",
   "execution_count": 38,
   "metadata": {},
   "outputs": [
    {
     "data": {
      "text/plain": [
       "Text(0, 0.5, 'Predicted Y Values')"
      ]
     },
     "execution_count": 38,
     "metadata": {},
     "output_type": "execute_result"
    },
    {
     "data": {
      "image/png": "[encoded data removed]",
      "text/plain": [
       "<Figure size 432x288 with 1 Axes>"
      ]
     },
     "metadata": {
      "needs_background": "light"
     },
     "output_type": "display_data"
    }
   ],
   "source": [
    "plt.scatter(y_train,polynom_predict, marker='+')\n",
    "plt.plot(np.linspace(1,1600,1600), 'tab:red')\n",
    "plt.title('Actual vs. Predicted Y Values')\n",
    "plt.xlabel('Actual Y Values')\n",
    "plt.ylabel('Predicted Y Values')"
   ]
  },
  {
   "cell_type": "code",
   "execution_count": 39,
   "metadata": {},
   "outputs": [
    {
     "data": {
      "text/plain": [
       "Text(0, 0.5, 'Residuals')"
      ]
     },
     "execution_count": 39,
     "metadata": {},
     "output_type": "execute_result"
    },
    {
     "data": {
      "image/png": "[encoded data removed]",
      "text/plain": [
       "<Figure size 432x288 with 1 Axes>"
      ]
     },
     "metadata": {
      "needs_background": "light"
     },
     "output_type": "display_data"
    }
   ],
   "source": [
    "polynomial_predict_residual = y_train.values - polynom_predict\n",
    "\n",
    "plt.scatter(polynom_predict, polynomial_predict_residual, marker='+') \n",
    "plt.title('Predicted Y Values vs. Residuals')\n",
    "plt.xlabel('Predicted Y Values')\n",
    "plt.ylabel('Residuals')"
   ]
  },
  {
   "cell_type": "markdown",
   "metadata": {},
   "source": [
    "Polynomial regression still produces similar residual errors, so it will not be used in the final model."
   ]
  },
  {
   "cell_type": "markdown",
   "metadata": {},
   "source": [
    "### Final model tuning and results"
   ]
  },
  {
   "cell_type": "code",
   "execution_count": 189,
   "metadata": {},
   "outputs": [],
   "source": [
    "X = modeling_df[new_x2]\n",
    "y = modeling_df.Non_Tobacco_Premium\n",
    "\n",
    "# Split data into training and holdout/test\n",
    "X_train, X_test, y_train, y_test = train_test_split(X, y, test_size=0.2) "
   ]
  },
  {
   "cell_type": "code",
   "execution_count": 190,
   "metadata": {},
   "outputs": [
    {
     "name": "stdout",
     "output_type": "stream",
     "text": [
      "-55352.91270831111\n"
     ]
    }
   ],
   "source": [
    "model = LinearRegression()\n",
    "lr_scores = cross_val_score(model, X_train, y_train, cv=5, scoring='neg_mean_squared_error')\n",
    "\n",
    "print(lr_scores.mean())"
   ]
  },
  {
   "cell_type": "markdown",
   "metadata": {},
   "source": [
    "Will now use GridSearch CV to get best Ridge and Lasso models."
   ]
  },
  {
   "cell_type": "code",
   "execution_count": 175,
   "metadata": {},
   "outputs": [],
   "source": [
    "scaler = StandardScaler()\n",
    "X_train_scaled = scaler.fit_transform(X_train)"
   ]
  },
  {
   "cell_type": "code",
   "execution_count": 183,
   "metadata": {},
   "outputs": [
    {
     "data": {
      "text/plain": [
       "GridSearchCV(cv=5, error_score='raise-deprecating',\n",
       "       estimator=Ridge(alpha=1.0, copy_X=True, fit_intercept=True, max_iter=None,\n",
       "   normalize=False, random_state=None, solver='auto', tol=0.001),\n",
       "       fit_params=None, iid='warn', n_jobs=1,\n",
       "       param_grid={'alpha': [0.001, 0.01, 0.1, 1, 10.0, 100.0, 1000.0], 'fit_intercept': [True]},\n",
       "       pre_dispatch='2*n_jobs', refit=True, return_train_score='warn',\n",
       "       scoring='neg_mean_squared_error', verbose=0)"
      ]
     },
     "execution_count": 183,
     "metadata": {},
     "output_type": "execute_result"
    }
   ],
   "source": [
    "model = Ridge()\n",
    "parameters = {'alpha': [1e-3,1e-2,1e-1,1,1e1,1e2,1e3], 'fit_intercept': [True]}\n",
    "grid = GridSearchCV(model, parameters, cv=5, scoring='neg_mean_squared_error', n_jobs=1)\n",
    "grid.fit(X_train_scaled, y_train)\n",
    "#grid.cv_results_"
   ]
  },
  {
   "cell_type": "code",
   "execution_count": 184,
   "metadata": {},
   "outputs": [
    {
     "data": {
      "text/plain": [
       "Ridge(alpha=1, copy_X=True, fit_intercept=True, max_iter=None,\n",
       "   normalize=False, random_state=None, solver='auto', tol=0.001)"
      ]
     },
     "execution_count": 184,
     "metadata": {},
     "output_type": "execute_result"
    }
   ],
   "source": [
    "grid.best_estimator_"
   ]
  },
  {
   "cell_type": "code",
   "execution_count": 185,
   "metadata": {},
   "outputs": [
    {
     "name": "stdout",
     "output_type": "stream",
     "text": [
      "{'alpha': 1, 'fit_intercept': True} -55339.25876675338\n"
     ]
    }
   ],
   "source": [
    "print(grid.best_params_, grid.best_score_)"
   ]
  },
  {
   "cell_type": "code",
   "execution_count": 186,
   "metadata": {},
   "outputs": [
    {
     "data": {
      "text/plain": [
       "GridSearchCV(cv=5, error_score='raise-deprecating',\n",
       "       estimator=Lasso(alpha=1.0, copy_X=True, fit_intercept=True, max_iter=1000,\n",
       "   normalize=False, positive=False, precompute=False, random_state=None,\n",
       "   selection='cyclic', tol=0.0001, warm_start=False),\n",
       "       fit_params=None, iid='warn', n_jobs=1,\n",
       "       param_grid={'alpha': [0.001, 0.01, 0.1, 1, 10.0, 100.0, 1000.0], 'fit_intercept': [True]},\n",
       "       pre_dispatch='2*n_jobs', refit=True, return_train_score='warn',\n",
       "       scoring='neg_mean_squared_error', verbose=0)"
      ]
     },
     "execution_count": 186,
     "metadata": {},
     "output_type": "execute_result"
    }
   ],
   "source": [
    "model = Lasso()\n",
    "parameters = {'alpha': [1e-3,1e-2,1e-1,1,1e1,1e2,1e3], 'fit_intercept': [True]}\n",
    "grid = GridSearchCV(model, parameters, cv=5, scoring='neg_mean_squared_error', n_jobs=1)\n",
    "grid.fit(X_train_scaled, y_train)\n",
    "#grid.cv_results_"
   ]
  },
  {
   "cell_type": "code",
   "execution_count": 187,
   "metadata": {},
   "outputs": [
    {
     "data": {
      "text/plain": [
       "Lasso(alpha=0.001, copy_X=True, fit_intercept=True, max_iter=1000,\n",
       "   normalize=False, positive=False, precompute=False, random_state=None,\n",
       "   selection='cyclic', tol=0.0001, warm_start=False)"
      ]
     },
     "execution_count": 187,
     "metadata": {},
     "output_type": "execute_result"
    }
   ],
   "source": [
    "grid.best_estimator_"
   ]
  },
  {
   "cell_type": "code",
   "execution_count": 188,
   "metadata": {},
   "outputs": [
    {
     "name": "stdout",
     "output_type": "stream",
     "text": [
      "{'alpha': 0.001, 'fit_intercept': True} -55339.259183509595\n"
     ]
    }
   ],
   "source": [
    "print(grid.best_params_, grid.best_score_)"
   ]
  },
  {
   "cell_type": "markdown",
   "metadata": {},
   "source": [
    "Since there is nearly indentical mean squared error scores for each of our best Lasso and Ridge models, will use Ridge as the final model since it produces better $r^2$ score."
   ]
  },
  {
   "cell_type": "markdown",
   "metadata": {},
   "source": [
    "#### Final Model Variables and Coefficients"
   ]
  },
  {
   "cell_type": "code",
   "execution_count": 198,
   "metadata": {},
   "outputs": [
    {
     "data": {
      "text/plain": [
       "{'Metal_Level_Silver': 164.7339272019634,\n",
       " 'Wellmark_Ins_Co': 564.9024848556281,\n",
       " 'Metal_Level_Platinum': 347.2885760035268,\n",
       " 'Metal_Level_Gold': 258.80307315434413,\n",
       " 'Wellmark_Value_Health_Plan_Ins_Co': 267.46527214874726,\n",
       " 'Wellmark_Health_Plan_Iowa_Ins_Co': 493.36012981785893,\n",
       " 'Freedom_Life_Ins_Co': 548.4338204990526,\n",
       " 'Medica_Ins_Co': 127.314048003657,\n",
       " 'Rating_Area_2': -38.52720722584307,\n",
       " 'Rating_Area_6': -16.50861221833322,\n",
       " 'Marketplace_On': 348.59130266929077,\n",
       " 'Metal_Level_Catastrophic': -21.153901885806643,\n",
       " 'Gundersen_Ins_Co': 182.674891694444}"
      ]
     },
     "execution_count": 198,
     "metadata": {},
     "output_type": "execute_result"
    }
   ],
   "source": [
    "final_ridge_model = Ridge(alpha= 1, fit_intercept=False)\n",
    "final_ridge_model.fit(X,y)\n",
    "final_ridge_coeffs = (dict(zip(X.columns, final_ridge_model.coef_)))\n",
    "final_ridge_coeffs"
   ]
  },
  {
   "cell_type": "code",
   "execution_count": null,
   "metadata": {},
   "outputs": [],
   "source": []
  }
 ],
 "metadata": {
  "kernelspec": {
   "display_name": "metis",
   "language": "python",
   "name": "metis"
  },
  "language_info": {
   "codemirror_mode": {
    "name": "ipython",
    "version": 3
   },
   "file_extension": ".py",
   "mimetype": "text/x-python",
   "name": "python",
   "nbconvert_exporter": "python",
   "pygments_lexer": "ipython3",
   "version": "3.6.8"
  },
  "varInspector": {
   "cols": {
    "lenName": 16,
    "lenType": 16,
    "lenVar": 40
   },
   "kernels_config": {
    "python": {
     "delete_cmd_postfix": "",
     "delete_cmd_prefix": "del ",
     "library": "var_list.py",
     "varRefreshCmd": "print(var_dic_list())"
    },
    "r": {
     "delete_cmd_postfix": ") ",
     "delete_cmd_prefix": "rm(",
     "library": "var_list.r",
     "varRefreshCmd": "cat(var_dic_list()) "
    }
   },
   "types_to_exclude": [
    "module",
    "function",
    "builtin_function_or_method",
    "instance",
    "_Feature"
   ],
   "window_display": false
  }
 },
 "nbformat": 4,
 "nbformat_minor": 2
}
